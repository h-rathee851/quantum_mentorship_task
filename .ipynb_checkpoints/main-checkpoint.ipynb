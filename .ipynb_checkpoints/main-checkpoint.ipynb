{
 "cells": [
  {
   "cell_type": "code",
   "execution_count": 8,
   "metadata": {},
   "outputs": [],
   "source": [
    "from qiskit import QuantumRegister,QuantumCircuit\n",
    "import numpy as np\n",
    "import matplotlib\n",
    "import qiskit.extensions as ex\n",
    "from math import pi,sqrt\n",
    "from qiskit.visualization import plot_state_city, plot_state_qsphere\n",
    "from qiskit.aqua.components.optimizers import COBYLA, Optimizer\n",
    "import matplotlib.pyplot as plt"
   ]
  },
  {
   "cell_type": "code",
   "execution_count": 9,
   "metadata": {},
   "outputs": [],
   "source": [
    "from qiskit import Aer, execute\n",
    "simulator = Aer.get_backend('statevector_simulator')"
   ]
  },
  {
   "cell_type": "code",
   "execution_count": 10,
   "metadata": {},
   "outputs": [],
   "source": [
    "def makeOddGate(i,theta):\n",
    "    '''Add dicstrings here'''\n",
    "    qc = QuantumCircuit(4,name='U'+str(i))\n",
    "    \n",
    "    for j,theta_ in enumerate(theta):\n",
    "        qc.rx(theta_,j)\n",
    "        \n",
    "    return qc"
   ]
  },
  {
   "cell_type": "code",
   "execution_count": 11,
   "metadata": {},
   "outputs": [],
   "source": [
    "def makeEvenGate(i,theta):\n",
    "    qc = QuantumCircuit(4,name='U'+str(i))\n",
    "    \n",
    "    for i,theta_ in enumerate(theta):\n",
    "        qc.rz(theta_,i)\n",
    "    \n",
    "    for i in range(4):\n",
    "        for j in range(i+1,4):\n",
    "            qc.cz(i,j)\n",
    "            \n",
    "    return qc"
   ]
  },
  {
   "cell_type": "code",
   "execution_count": 12,
   "metadata": {},
   "outputs": [],
   "source": [
    "def applyLayer(i,qc,theta_1,theta_2):\n",
    "    qc.append(makeOddGate(2*i+1,theta_1),range(4))\n",
    "    qc.append(makeEvenGate(2*i+2,theta_2),range(4))\n",
    "    qc.barrier()\n",
    "    return qc"
   ]
  },
  {
   "cell_type": "code",
   "execution_count": 13,
   "metadata": {},
   "outputs": [],
   "source": [
    "def funcToMin(theta,layers,rand_state_vector):\n",
    "    \n",
    "    reg = QuantumRegister(4)\n",
    "    qc = QuantumCircuit(reg)\n",
    "        \n",
    "    for i in range(layers):\n",
    "        theta_1 = theta[(8*i):(8*i)+4]\n",
    "        theta_2 = theta[(8*i)+4:(8*i)+8]\n",
    "        qc = applyLayer(i,qc,theta_1,theta_2)\n",
    "        \n",
    "    result = execute(qc,simulator).result()\n",
    "    statevector = result.get_statevector(qc)\n",
    "    \n",
    "    \n",
    "    return sqrt(sum(abs(statevector - rand_state_vector)**2))"
   ]
  },
  {
   "cell_type": "code",
   "execution_count": 14,
   "metadata": {
    "scrolled": true
   },
   "outputs": [
    {
     "name": "stdout",
     "output_type": "stream",
     "text": [
      "working on layer: 1\n",
      "1.3518796941302413\n",
      "working on layer: 2\n",
      "0.8000645283455822\n",
      "working on layer: 3\n",
      "0.6935766887198728\n",
      "working on layer: 4\n",
      "0.269205173556144\n",
      "working on layer: 5\n",
      "0.16890817265445981\n"
     ]
    }
   ],
   "source": [
    "layers = 5\n",
    "\n",
    "rand_state_vector = np.random.rand(2**4) + 1j*np.random.rand(2**4)\n",
    "rand_state_vector = rand_state_vector/sqrt(sum(abs(rand_state_vector)**2))\n",
    "\n",
    "optimizer = COBYLA(maxiter = 2000)\n",
    "# optimizer.\n",
    "\n",
    "x_axis = []\n",
    "y_axis = []\n",
    "\n",
    "for i in range(layers):  \n",
    "    print(\"working on layer: {}\".format(i+1))\n",
    "    cost_func = COBYLA.wrap_function(funcToMin,(i,rand_state_vector))\n",
    "    output = optimizer.optimize((i+1)*8,cost_func, initial_point = np.random.uniform(0,2*pi,8*(i+1)))\n",
    "    x_axis.append(i+1)\n",
    "    y_axis.append(output[1])\n",
    "    print(output[1])"
   ]
  },
  {
   "cell_type": "code",
   "execution_count": 15,
   "metadata": {},
   "outputs": [
    {
     "data": {
      "image/png": "[encoded data removed]",
      "text/plain": [
       "<Figure size 432x288 with 1 Axes>"
      ]
     },
     "metadata": {
      "needs_background": "light"
     },
     "output_type": "display_data"
    }
   ],
   "source": [
    "plt.plot(x_axis,y_axis)\n",
    "plt.show()"
   ]
  },
  {
   "cell_type": "code",
   "execution_count": null,
   "metadata": {},
   "outputs": [],
   "source": []
  }
 ],
 "metadata": {
  "kernelspec": {
   "display_name": "Python 3",
   "language": "python",
   "name": "python3"
  },
  "language_info": {
   "codemirror_mode": {
    "name": "ipython",
    "version": 3
   },
   "file_extension": ".py",
   "mimetype": "text/x-python",
   "name": "python",
   "nbconvert_exporter": "python",
   "pygments_lexer": "ipython3",
   "version": "3.7.4"
  }
 },
 "nbformat": 4,
 "nbformat_minor": 2
}
